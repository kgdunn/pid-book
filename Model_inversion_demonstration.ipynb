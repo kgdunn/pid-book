{
  "nbformat": 4,
  "nbformat_minor": 0,
  "metadata": {
    "colab": {
      "name": "Model_inversion_demonstration.ipynb",
      "provenance": [],
      "collapsed_sections": [],
      "include_colab_link": true
    },
    "hide_input": false,
    "kernelspec": {
      "display_name": "Python 3",
      "language": "python",
      "name": "python3"
    },
    "language_info": {
      "codemirror_mode": {
        "name": "ipython",
        "version": 3
      },
      "file_extension": ".py",
      "mimetype": "text/x-python",
      "name": "python",
      "nbconvert_exporter": "python",
      "pygments_lexer": "ipython3",
      "version": "3.8.5"
    },
    "notify_time": "5",
    "toc": {
      "base_numbering": 1,
      "nav_menu": {},
      "number_sections": true,
      "sideBar": true,
      "skip_h1_title": false,
      "title_cell": "Table of Contents",
      "title_sidebar": "Contents",
      "toc_cell": false,
      "toc_position": {},
      "toc_section_display": true,
      "toc_window_display": false
    },
    "varInspector": {
      "cols": {
        "lenName": 16,
        "lenType": 16,
        "lenVar": 40
      },
      "kernels_config": {
        "python": {
          "delete_cmd_postfix": "",
          "delete_cmd_prefix": "del ",
          "library": "var_list.py",
          "varRefreshCmd": "print(var_dic_list())"
        },
        "r": {
          "delete_cmd_postfix": ") ",
          "delete_cmd_prefix": "rm(",
          "library": "var_list.r",
          "varRefreshCmd": "cat(var_dic_list()) "
        }
      },
      "types_to_exclude": [
        "module",
        "function",
        "builtin_function_or_method",
        "instance",
        "_Feature"
      ],
      "window_display": false
    }
  },
  "cells": [
    {
      "cell_type": "markdown",
      "metadata": {
        "id": "view-in-github",
        "colab_type": "text"
      },
      "source": [
        "<a href=\"https://colab.research.google.com/github/kgdunn/pid-book/blob/master/Model_inversion_demonstration.ipynb\" target=\"_parent\"><img src=\"https://colab.research.google.com/assets/colab-badge.svg\" alt=\"Open In Colab\"/></a>"
      ]
    },
    {
      "cell_type": "code",
      "metadata": {
        "id": "a6qLffcrdbgM",
        "scrolled": false
      },
      "source": [
        "!pip install -U numpy pandas scipy matplotlib sklearn ipysheet ipywidgets plotly notebook \n",
        "# The above line only needs to be run the first time. After that you will have all the packages necessary.\n",
        "import numpy as np\n",
        "import pandas as pd\n",
        "import scipy as sp\n",
        "from pandas.plotting import scatter_matrix\n",
        "import matplotlib.pyplot as plt\n",
        "from sklearn.decomposition import PCA\n",
        "from sklearn.base import BaseEstimator, TransformerMixin\n",
        "from sklearn.utils.validation import check_is_fitted\n",
        "\n",
        "#from ipywidgets import interact, interactive, fixed, interact_manual, Output, VBox, Box, Layout, FloatSlider,Checkbox, FloatText\n",
        "from ipysheet import sheet, column, to_dataframe, row\n",
        "import ipywidgets as widgets\n",
        "import plotly.graph_objects as go\n",
        "from plotly.subplots import make_subplots"
      ],
      "execution_count": null,
      "outputs": []
    },
    {
      "cell_type": "markdown",
      "metadata": {
        "id": "WYXGCR5UdbgW"
      },
      "source": [
        "## Strategy\n",
        "\n",
        "1. Load the data from CSV\n",
        "2. Preprocess the data\n",
        "3. Fit the PCA model (2 components for this demonstration)\n",
        "4. Show the scores and loadings\n",
        "5. Show the model inversion scores sliders\n",
        "6. Show the values of the x-variables that could be used"
      ]
    },
    {
      "cell_type": "code",
      "metadata": {
        "id": "VsmqSLBcdbgX"
      },
      "source": [
        "# 1. Loading the data file\n",
        "full_path = ''\n",
        "foods = pd.read_csv(\"https://openmv.net/file/food-texture.csv\").drop(['Unnamed: 0',], axis=1)\n",
        "display(foods.head())"
      ],
      "execution_count": null,
      "outputs": []
    },
    {
      "cell_type": "code",
      "metadata": {
        "code_folding": [
          2
        ],
        "id": "tIhCVFtgdbgX"
      },
      "source": [
        "# Create our own mean centering and scaling to unit variance (MCUV) class\n",
        "# The default scaler in sklearn does not handle small datasets accurately, with ddof.\n",
        "class MCUVScaler(BaseEstimator, TransformerMixin):\n",
        "    def __init__(self):\n",
        "        pass\n",
        "        \n",
        "    def fit(self, X, y = None):\n",
        "        self.center_x_ = X.mean()\n",
        "        self.scale_x_ = X.std(ddof=1) # this is the key difference with \"preprocessing.StandardScaler\"\n",
        "        self.scale_x_[self.scale_x_ == 0] = 1.0 # columns with no variance are left as-is.\n",
        "        return self\n",
        " \n",
        "    def transform(self, X):\n",
        "        check_is_fitted(self, 'center_x_')\n",
        "        check_is_fitted(self, 'scale_x_')\n",
        " \n",
        "        X = X.copy()\n",
        "        return (X - self.center_x_) / self.scale_x_\n",
        "    \n",
        "    def inverse_transform(self, X):\n",
        "        check_is_fitted(self, 'center_x_')\n",
        "        check_is_fitted(self, 'scale_x_')\n",
        " \n",
        "        X = X.copy()\n",
        "        return X * self.scale_x_ + self.center_x_    "
      ],
      "execution_count": null,
      "outputs": []
    },
    {
      "cell_type": "code",
      "metadata": {
        "code_folding": [
          0
        ],
        "id": "OQ31TSMTdbgY"
      },
      "source": [
        "# 2. Preprocess the data\n",
        "scaler = MCUVScaler().fit(foods)\n",
        "foods_mcuv = scaler.fit_transform(foods)"
      ],
      "execution_count": null,
      "outputs": []
    },
    {
      "cell_type": "code",
      "metadata": {
        "code_folding": [
          0
        ],
        "id": "Zydbz6W2dbgZ"
      },
      "source": [
        "# 3. Fit the PCA model, with \"A\" principal components\n",
        "A = 2\n",
        "pca = PCA(n_components=A).fit(foods_mcuv)\n",
        "N, K = foods_mcuv.shape\n",
        "pca.T2_limit_95 = A*(N-1)*(N+1)/(N*(N-A)) * sp.stats.f.isf((1-0.95), A, N-A)\n",
        "pca.scaling_factor_for_scores = np.sqrt(pca.explained_variance_)\n",
        "pca.t_scores = pca.fit_transform(foods_mcuv)\n",
        "\n",
        "# Find the SPE limit\n",
        "X_hat = pca.t_scores @ pca.components_\n",
        "X_check_mcuv = foods_mcuv\n",
        "error_X = X_check_mcuv - X_hat      \n",
        "SPE = np.sum(error_X ** 2, axis=1)\n",
        "# Find the SPE limit analytically still\n",
        "# SPE_limit = ___\n",
        "# plt.plot(SPE)\n",
        "# plt.plot([0, len(SPE)], [SPE_limit, SPE_limit], 'r')\n",
        "# plt.grid()\n",
        "\n",
        "# Hotelling's T2\n",
        "HotT2 = np.sum((pca.t_scores/pca.scaling_factor_for_scores)**2, axis=1)\n",
        "plt.plot(HotT2)\n",
        "plt.plot([0, len(HotT2)], [pca.T2_limit_95, pca.T2_limit_95], 'r')\n",
        "plt.grid()\n",
        "plt.title(\"Hotelling's $T^2$ plot\");"
      ],
      "execution_count": null,
      "outputs": []
    },
    {
      "cell_type": "code",
      "metadata": {
        "code_folding": [
          0
        ],
        "id": "2Kz7jH9Ldbga"
      },
      "source": [
        "# 4. Plot the model\n",
        "def ellipse_coordinates(s_h, s_v, T2_limit_alpha, n_points=100):\n",
        "#     We want the (t_horiz, t_vert) coaoridinate pairs that form the T2 ellipse.\n",
        "# \n",
        "#     Inputs: s_h (std deviation of the score on the horizontal axis)\n",
        "#             s_v (std deviation of the score on the vertical axis)\n",
        "#             T2_limit_alpha: the T2_limit at the alpha confidence value\n",
        "# \n",
        "#     Equation of ellipse in canonical form (http://en.wikipedia.org/wiki/Ellipse)\n",
        "# \n",
        "#      (t_horiz/s_h)^2 + (t_vert/s_v)^2  =  T2_limit_alpha\n",
        "# \n",
        "#      s_horiz = stddev(T_horiz)\n",
        "#      s_vert  = stddev(T_vert)\n",
        "#      T2_limit_alpha = T2 confidence limit at a given alpha value (e.g. 99#)\n",
        "# \n",
        "#     Equation of ellipse, parametric form (http://en.wikipedia.org/wiki/Ellipse)\n",
        "# \n",
        "#     t_horiz = sqrt(T2_limit_alpha)*s_h*cos(t) \n",
        "#     t_vert  = sqrt(T2_limit_alpha)*s_v*sin(t) \n",
        "# \n",
        "#     where t ranges between 0 and 2*pi\n",
        "# \n",
        "#     Returns `n-points` equi-spaced points on the ellipse.\n",
        "# Kevin Dunn, 2010\n",
        "\n",
        "    h_const = np.sqrt(T2_limit_alpha) * s_h\n",
        "    v_const = np.sqrt(T2_limit_alpha) * s_v\n",
        "    dt = 2*np.pi/(n_points-1)\n",
        "    steps = np.linspace(0, n_points-1, n_points)\n",
        "    x = np.cos(steps*dt)*h_const\n",
        "    y = np.sin(steps*dt)*v_const\n",
        "    return x, y\n",
        "\n",
        "def score_plot(ax=None, hide_annotations=False): # score plot of t1 vs t2\n",
        "    if ax is None:\n",
        "        ax = plt.subplot(1, 2, 1)\n",
        "    else:\n",
        "        plt.sca(ax)\n",
        "    plt.plot(pca.t_scores[:,1], pca.t_scores[:, 0], 'k.', )\n",
        "    if not(hide_annotations):\n",
        "        plt.title('Score plot: $t_2$ vs $t_1$')\n",
        "        plt.xlabel('$t_2$ scores')\n",
        "        plt.ylabel('$t_1$ scores')\n",
        "    T2_limit_alpha = 2 # TODO: determine from MV software\n",
        "    ci_x, ci_y = ellipse_coordinates(pca.scaling_factor_for_scores[1], \n",
        "                                     pca.scaling_factor_for_scores[0], \n",
        "                                     T2_limit_alpha=pca.T2_limit_95, \n",
        "                                     n_points=100)\n",
        "    plt.plot(ci_x, ci_y, '-', color=np.array([219,112,147])/255.0, linewidth=2)\n",
        "    \n",
        "    if not(hide_annotations):\n",
        "        plt.axvline(linewidth=2)\n",
        "        plt.axhline(linewidth=2)\n",
        "        ax.set_aspect('equal')\n",
        "        ax.grid()\n",
        "    \n",
        "    return ax\n",
        "\n",
        "def loadings_plot():# loadings plot of p1 vs p2\n",
        "    ax = plt.subplot(1, 2, 2)\n",
        "    for idx, label in enumerate(list(foods)):\n",
        "        fuzz = 0.02\n",
        "        plt.plot(pca.components_.T[idx, 1], pca.components_.T[idx, 0], 'k.', )\n",
        "        plt.text(pca.components_.T[idx, 1]+fuzz, pca.components_.T[idx, 0]-fuzz, label)\n",
        "\n",
        "    plt.title('Loadings plot: $p_2$ vs $p_1$')\n",
        "    plt.xlabel('$p_2$ loadings')\n",
        "    plt.ylabel('$p_1$ loadings')\n",
        "    plt.axvline(linewidth=2)\n",
        "    plt.axhline(linewidth=2)\n",
        "    ax.set_aspect('equal')\n",
        "    ax.grid()\n",
        "    \n",
        "    return ax\n",
        "    \n",
        "fig = plt.figure(figsize=(15, 10))\n",
        "plt.subplots_adjust(top=0.9, bottom=0.1, left=0.0, right=0.9, hspace=0.5, wspace=0.2)\n",
        "score_plot();\n",
        "loadings_plot();"
      ],
      "execution_count": null,
      "outputs": []
    },
    {
      "cell_type": "code",
      "metadata": {
        "code_folding": [
          0
        ],
        "id": "H1sgRr7jdbgb"
      },
      "source": [
        "# PCA model inversion\n",
        "def invert_model(t1, t2):\n",
        "    data = pd.concat([foods, \n",
        "                      pd.DataFrame(pca.t_scores[:,0], columns=['t1', ]),\n",
        "                      pd.DataFrame(pca.t_scores[:,1], columns=['t2', ])], axis=1)\n",
        "    spm = scatter_matrix(data, figsize=(10, 10));\n",
        "    x_pred_mcuv = pca.inverse_transform([t1, t2])\n",
        "    x_pred_orig = scaler.inverse_transform(x_pred_mcuv)\n",
        "    x_pred_plot = x_pred_orig.tolist()\n",
        "    print(x_pred_orig)\n",
        "    x_pred_plot.extend((t1, t2))\n",
        "    ax_t1 = 5\n",
        "    ax_t2 = 6\n",
        "    for i in range(0, 7):\n",
        "        for j in range(0, 7):\n",
        "            if i < j and not((ax_t1==i) and (ax_t2==j)):\n",
        "                plt.sca(spm[i][j])\n",
        "                plt.plot(x_pred_plot[j], x_pred_plot[i], 'r.', markersize=10)\n",
        "                \n",
        "            if i==j:\n",
        "                plt.sca(spm[i][j])\n",
        "                plt.axvline(x=x_pred_plot[j],color='r', linewidth=2)\n",
        "    \n",
        "    plt.sca(spm[ax_t1, ax_t2])\n",
        "    score_plot(spm[ax_t1, ax_t2], hide_annotations=True)\n",
        "    plt.plot(x_pred_plot[ax_t2], x_pred_plot[ax_t1], 'r.', markersize=10)\n",
        "   \n",
        "\n",
        "t1 = widgets.FloatSlider(min=-4, max=+4, step=0.2, value=0, continuous_update=False, \n",
        "                         orientation='vertical', readout_format='.1f', description='\\(t_1\\) value')\n",
        "t2 = widgets.FloatSlider(min=-3, max=+3, step=0.1, value=0, continuous_update=False, \n",
        "                         readout_format='.1f', description='\\(t_2\\) value')\n",
        "\n",
        "ui = widgets.HBox([t1, t2])\n",
        "out = widgets.interactive_output(invert_model, {'t1': t1, 't2': t2,});\n",
        "display(ui, out);"
      ],
      "execution_count": null,
      "outputs": []
    },
    {
      "cell_type": "code",
      "metadata": {
        "code_folding": [
          0,
          11
        ],
        "id": "96jDFlMjdbgd",
        "scrolled": false
      },
      "source": [
        "# Set up plots etc\n",
        "def score_plot_points(a_horiz: int, a_vert: int, T2_limit_alpha: float): # score plot of t1 vs t2\n",
        "    \n",
        "    points = go.Scatter(x=pca.t_scores[:,a_horiz], \n",
        "                        y=pca.t_scores[:,a_vert], \n",
        "                        mode='markers', \n",
        "                        marker_color='rgba(0, 0, 0, 1)',\n",
        "                        name=\"Scores\",\n",
        "                        hoverinfo='none',\n",
        "                        showlegend=False)\n",
        "\n",
        "    ci_x, ci_y = ellipse_coordinates(np.sqrt(pca.explained_variance_[a_horiz]), \n",
        "                                     np.sqrt(pca.explained_variance_[a_vert]), \n",
        "                                     T2_limit_alpha=T2_limit_alpha, \n",
        "                                     n_points=100)\n",
        "    ellipse = go.Scatter(x=ci_x, \n",
        "                         y=ci_y, \n",
        "                         mode='lines', \n",
        "                         marker_color='rgba(219,112,147, 1)',\n",
        "                         name='',\n",
        "                         hoverinfo='none',\n",
        "                         showlegend=False)\n",
        "    \n",
        "    x_range = ([max(max(abs(points['x'])), max(abs(ellipse['x'])))] * 2  * np.array([-1.05, 1.05])).tolist()\n",
        "    y_range = ([max(max(abs(points['y'])), max(abs(ellipse['y'])))] * 2  * np.array([-1.05, 1.05])).tolist()\n",
        "    return points, ellipse, x_range, y_range  \n",
        "\n",
        "a_horiz=0\n",
        "a_vert=1\n",
        "  \n",
        "if True: # plot set up, etc\n",
        "    points, ellipse,x_range, y_range = score_plot_points(a_horiz, a_vert, T2_limit_alpha=pca.T2_limit_95)\n",
        "\n",
        "    resolution = 5\n",
        "    x_map = np.linspace(x_range[0], x_range[1], resolution+1)\n",
        "    y_map = np.linspace(y_range[0], y_range[1], resolution+1)\n",
        "    z = np.zeros((resolution+1, resolution+1))+1\n",
        "    clickmap = go.Heatmap(x=x_map,y=y_map,z=z, \n",
        "                          showscale= False,                                 \n",
        "                          hoverinfo='none',\n",
        "                          colorscale=[[0, \"rgba(255, 255, 255, 0)\"], [1, \"rgba(255, 255, 255, 0 )\"]] \n",
        "                                   )\n",
        "\n",
        "    scores_layout=dict(width=600,\n",
        "                       height=600,\n",
        "                       title_text=f'$t_{a_horiz+1} \\\\text{{vs}}\\\\, t_{a_vert+1}$',\n",
        "                       hovermode=\"closest\",                    \n",
        "                       autosize=True,\n",
        "                       margin= dict(l=10, r=10, b=5, t=80), # Defaults: l=80, r=80, t=100, b=80\n",
        "                       spikedistance=0,       \n",
        "                       xaxis=dict(\n",
        "                           title=dict(\n",
        "                               text=f'$t_{a_horiz+1}$ scores',\n",
        "                               font=dict(size=16),\n",
        "                           ),\n",
        "                           mirror=True, # ticks are mirrored at the top of the frame also\n",
        "                           autorange=False,\n",
        "                           range=x_range,\n",
        "                           showspikes=True,\n",
        "                           visible=True,\n",
        "                       ),\n",
        "                       yaxis=dict(\n",
        "                           title=dict(\n",
        "                               text=f'$t_{a_vert+1}$ scores',\n",
        "                               font=dict(size=16),\n",
        "                           ),\n",
        "                           type=\"linear\",\n",
        "                           autorange=False,\n",
        "                           range=y_range,\n",
        "                           showspikes=True,\n",
        "                           visible=True,\n",
        "                           domain=[0, 1],\n",
        "                       ),\n",
        "                      )\n",
        "\n",
        "    f = go.FigureWidget([clickmap, points, ellipse], layout=scores_layout)\n",
        "    clickground = f.data[0]\n",
        "    f.layout.hovermode = 'x'    \n",
        "\n",
        "    box_layout = widgets.Layout(display='inline-flex', flex_flow='row', align_items='stretch', width='90%')\n",
        "    box_auto = widgets.Box(children=[f,], layout=box_layout)\n",
        "    display(widgets.VBox([box_auto, ]) );\n",
        "\n",
        "    sliders = [widgets.FloatSlider(min=-4, max=+4, step=0.2, value=0,readout_format='.1f') for _ in range(K)]\n",
        "    true_value = [widgets.FloatText( value=np.nan, readout_format='.1f') for _ in range(K)]\n",
        "    checkboxes = [widgets.Checkbox(value=False, disabled=False, indent=False) for _ in range(K)]\n",
        "    properties = list(foods.columns)\n",
        "    sheet1=sheet(columns=4, \n",
        "                 column_headers=[\"X variable\", \"Normalized value\", \"Real value\", \"Constrained?\"], \n",
        "                 column_width=[10, 40, 40, 10])\n",
        "    column0=column(0, properties)\n",
        "    column1=column(1, sliders)\n",
        "    column2=column(2, true_value)\n",
        "    column2=column(3, checkboxes)\n",
        "    display(sheet1)\n",
        "\n",
        "    sheet2=sheet(rows=1,\n",
        "                 columns=2, \n",
        "                 column_headers=[\"Squared prediction error\", \"Hotelling's T^2\"],  \n",
        "                 column_width=[40, 40])\n",
        "    SPE_handle = widgets.FloatText(value=np.nan, readout_format='.1f')\n",
        "    T2_handle = widgets.FloatText(value=np.nan, readout_format='.1f')\n",
        "    s2_row0=row(0, [SPE_handle, T2_handle])\n",
        "    display(sheet2)\n",
        "\n",
        "def update_point(trace, points, selector):\n",
        "    t1 = points.xs[0]\n",
        "    t2 = points.ys[0]\n",
        "    scores = np.array([t1,t2]) # 1 x A vector\n",
        "    \n",
        "    # Free and constrained variables\n",
        "    loadings = pca.components_.T # K x A matrix\n",
        "    idxF, idxC = [not(c.value) for c in checkboxes], [c.value for c in checkboxes]\n",
        "    Rf, Rc = loadings[idxF, :], loadings[idxC, :]\n",
        "    xc = np.array([s.value for s in sliders])[idxC].reshape((-1,1))\n",
        "    \n",
        "    # Subtract out (i.e. eliminate from the optimization) the the constrained parts of the multivariate projection\n",
        "    x_pred_mcuv = ((scores - xc.T @ Rc) @ loadings.T @ loadings @ loadings.T).ravel()\n",
        "    x_pred_mcuv[idxC] = xc.ravel()\n",
        "    x_pred_orig = scaler.inverse_transform(x_pred_mcuv.ravel())\n",
        "    for idx, slider in enumerate(sliders):\n",
        "        slider.value = x_pred_mcuv[idx]\n",
        "        true_value[idx].value = f\"{x_pred_orig[idx]:.3g}\"\n",
        "  \n",
        "    # Find the SPE and T2 value for this point:\n",
        "    X_hat = scores @ loadings.T\n",
        "    error_X = x_pred_mcuv - X_hat.ravel()   \n",
        "    \n",
        "    SPE_handle.value = 0.0 #f\"{np.sum(error_X ** 2):.3g}\" <-- we are always on the model plane.\n",
        "    T2_handle.value = f\"{np.sum((scores / pca.scaling_factor_for_scores)**2):.3g}\"\n",
        "           \n",
        "clickground.on_hover(update_point)\n",
        "widgets.VBox([out]);\n",
        "\n",
        "# TODO:\n",
        "# * show loadings points superimposed"
      ],
      "execution_count": null,
      "outputs": []
    },
    {
      "cell_type": "code",
      "metadata": {
        "id": "8tKHhnbWiPX_"
      },
      "source": [
        ""
      ],
      "execution_count": null,
      "outputs": []
    },
    {
      "cell_type": "markdown",
      "metadata": {
        "id": "ArmpWdLXiRkE"
      },
      "source": [
        "**NOTE**\n",
        "\n",
        "The last cell above will NOT work in Google's Colab. \n",
        "You can download the notebook (click on \"File\", then \"Download .ipynb\")\n",
        "and run that notebook on your own hardware. Then you will have a fully interactive score plot \n",
        "where the model-inversion happens in real time."
      ]
    }
  ]
}